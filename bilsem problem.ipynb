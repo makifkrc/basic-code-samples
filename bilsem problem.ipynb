{
 "cells": [
  {
   "cell_type": "code",
   "execution_count": 1,
   "metadata": {},
   "outputs": [],
   "source": [
    "import random"
   ]
  },
  {
   "cell_type": "code",
   "execution_count": 2,
   "metadata": {},
   "outputs": [
    {
     "data": {
      "text/plain": [
       "int"
      ]
     },
     "execution_count": 2,
     "metadata": {},
     "output_type": "execute_result"
    }
   ],
   "source": [
    "type (random.randint(1,5))"
   ]
  },
  {
   "cell_type": "code",
   "execution_count": 3,
   "metadata": {},
   "outputs": [],
   "source": [
    "class Question:\n",
    "    \n",
    "    def __init__(self,number, answer):\n",
    "        self.answer = answer\n",
    "        self.number = number"
   ]
  },
  {
   "cell_type": "code",
   "execution_count": null,
   "metadata": {},
   "outputs": [],
   "source": []
  },
  {
   "cell_type": "code",
   "execution_count": 4,
   "metadata": {},
   "outputs": [
    {
     "name": "stdout",
     "output_type": "stream",
     "text": [
      "length of the answer key6\n"
     ]
    }
   ],
   "source": [
    "leng_answk = int(input(\"length of the answer key\"))"
   ]
  },
  {
   "cell_type": "code",
   "execution_count": 5,
   "metadata": {},
   "outputs": [],
   "source": [
    "\n",
    "def generate_list(leng_answk):\n",
    "    \n",
    "    answer_key = []\n",
    "    \n",
    "    for i in range (1,leng_answk+1):\n",
    "        rand_num = random.randint(1,5)\n",
    "        answer_key.append(Question(i,rand_num))\n",
    "        \n",
    "    return answer_key"
   ]
  },
  {
   "cell_type": "code",
   "execution_count": 6,
   "metadata": {},
   "outputs": [],
   "source": [
    "####check 3"
   ]
  },
  {
   "cell_type": "code",
   "execution_count": 7,
   "metadata": {},
   "outputs": [],
   "source": [
    "\n",
    "def check_3(x,y,z):\n",
    "    \n",
    "    if x==y==z:\n",
    "        return False\n",
    "    else:\n",
    "        return True\n",
    "        \n",
    "    "
   ]
  },
  {
   "cell_type": "code",
   "execution_count": 8,
   "metadata": {
    "scrolled": true
   },
   "outputs": [],
   "source": [
    "def check_list(answer_key):\n",
    "    count = 0\n",
    "    for p in range (0, len(answer_key)-2):\n",
    "        x = answer_key[p].answer\n",
    "        y = answer_key[p+1].answer\n",
    "        z = answer_key[p+2].answer\n",
    "        if check_3(x,y,z) == False:\n",
    "            ##print(x,y,z)\n",
    "            break\n",
    "\n",
    "        else:\n",
    "            count += 1\n",
    "\n",
    "    if count == len(answer_key)-2:\n",
    "        list_ok = True\n",
    "    else: list_ok = False\n",
    "        \n",
    "    return list_ok"
   ]
  },
  {
   "cell_type": "code",
   "execution_count": 9,
   "metadata": {},
   "outputs": [],
   "source": [
    "###check list"
   ]
  },
  {
   "cell_type": "code",
   "execution_count": null,
   "metadata": {},
   "outputs": [],
   "source": []
  },
  {
   "cell_type": "code",
   "execution_count": 10,
   "metadata": {},
   "outputs": [
    {
     "name": "stdout",
     "output_type": "stream",
     "text": [
      "13537\n",
      "13537\n"
     ]
    }
   ],
   "source": [
    "x = 5**leng_answk\n",
    "all_lists = []\n",
    "all_lists_set = []\n",
    "heleleyyo = 0\n",
    "while x != 0:\n",
    "    \n",
    "    nomin_list = generate_list(leng_answk)\n",
    "    list_ok = check_list(nomin_list)\n",
    "    \n",
    "    if nomin_list not in all_lists_set :\n",
    "        x -= 1\n",
    "        if list_ok:\n",
    "            all_lists_set.append(nomin_list)\n",
    "            heleleyyo +=1\n",
    "    \n",
    "    else:\n",
    "        continue\n",
    "        \n",
    "print(len(all_lists_set))\n",
    "print(heleleyyo)\n",
    "    "
   ]
  },
  {
   "cell_type": "code",
   "execution_count": null,
   "metadata": {},
   "outputs": [],
   "source": []
  }
 ],
 "metadata": {
  "kernelspec": {
   "display_name": "Python 3",
   "language": "python",
   "name": "python3"
  },
  "language_info": {
   "codemirror_mode": {
    "name": "ipython",
    "version": 3
   },
   "file_extension": ".py",
   "mimetype": "text/x-python",
   "name": "python",
   "nbconvert_exporter": "python",
   "pygments_lexer": "ipython3",
   "version": "3.8.3"
  }
 },
 "nbformat": 4,
 "nbformat_minor": 4
}
